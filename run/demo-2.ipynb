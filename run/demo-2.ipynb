{
 "cells": [
  {
   "cell_type": "code",
   "execution_count": 1,
   "metadata": {},
   "outputs": [
    {
     "name": "stderr",
     "output_type": "stream",
     "text": [
      "/anaconda3/lib/python3.6/site-packages/h5py/__init__.py:36: FutureWarning: Conversion of the second argument of issubdtype from `float` to `np.floating` is deprecated. In future, it will be treated as `np.float64 == np.dtype(float).type`.\n",
      "  from ._conv import register_converters as _register_converters\n",
      "Using TensorFlow backend.\n"
     ]
    }
   ],
   "source": [
    "import sys\n",
    "sys.path.append(\"../\")\n",
    "from lib.dashboard import *\n",
    "from lib.graph import *\n",
    "from lib.models import *\n",
    "from lib.preprocess import *"
   ]
  },
  {
   "cell_type": "markdown",
   "metadata": {},
   "source": [
    "### Prediction"
   ]
  },
  {
   "cell_type": "code",
   "execution_count": 2,
   "metadata": {},
   "outputs": [
    {
     "name": "stdout",
     "output_type": "stream",
     "text": [
      "reading file\n"
     ]
    },
    {
     "name": "stderr",
     "output_type": "stream",
     "text": [
      "/anaconda3/lib/python3.6/site-packages/IPython/core/interactiveshell.py:2963: DtypeWarning:\n",
      "\n",
      "Columns (6) have mixed types. Specify dtype option on import or set low_memory=False.\n",
      "\n"
     ]
    },
    {
     "name": "stdout",
     "output_type": "stream",
     "text": [
      "Nan replaced with 0. Can pass something other than 0\n",
      "Variables successfully selected\n",
      "Removed and splitted Date!\n",
      "Sales as y variable successfully chosen\n",
      "Categoricol to nominal done!\n",
      "Dim calculated\n"
     ]
    }
   ],
   "source": [
    "\n",
    "#Enter the name of the project\n",
    "project_name= 'rossman3'\n",
    "\n",
    "#Upload Dataset\n",
    "file_address= '../projects/data/train.csv'\n",
    "\n",
    "#ML-Type : Prediction (p) or Forecasting (f)\n",
    "project_type= 'p'\n",
    "\n",
    "#Choose Target Variable\n",
    "y_variable= 'Sales'\n",
    "\n",
    "#Call API\n",
    "d1= Dashboard(project_name, project_type)\n",
    "\n",
    "#API Functions\n",
    "d1.set_parameter('file_address', file_address)\n",
    "d1.set_parameter('y_variable', y_variable)\n",
    "\n",
    "#Data Transformation\n",
    "d1.transform_data()\n",
    "\n",
    "#mltrons auto-model select\n",
    "# d1.find_best_model(.95,100)"
   ]
  },
  {
   "cell_type": "code",
   "execution_count": 9,
   "metadata": {},
   "outputs": [
    {
     "name": "stderr",
     "output_type": "stream",
     "text": [
      "/anaconda3/lib/python3.6/site-packages/keras/engine/topology.py:1253: UserWarning:\n",
      "\n",
      "The `Merge` layer is deprecated and will be removed after 08/2017. Use instead layers from `keras.layers.merge`, e.g. `add`, `concatenate`, etc.\n",
      "\n"
     ]
    },
    {
     "name": "stdout",
     "output_type": "stream",
     "text": [
      "Loaded model from disk\n"
     ]
    }
   ],
   "source": [
    "m=NN_with_EE()\n",
    "m.load_model('rossman2')"
   ]
  },
  {
   "cell_type": "code",
   "execution_count": 10,
   "metadata": {},
   "outputs": [
    {
     "name": "stdout",
     "output_type": "stream",
     "text": [
      "Nan replaced with 0. Can pass something other than 0\n",
      "File does not need time splitting\n",
      "Sales as y variable successfully chosen\n",
      "Categoricol to nominal done!\n"
     ]
    },
    {
     "data": {
      "text/plain": [
       "'categoricol to nominal done!'"
      ]
     },
     "execution_count": 10,
     "metadata": {},
     "output_type": "execute_result"
    }
   ],
   "source": [
    "d1.preprocess_object.set_parameter('address', 'rossman_test.csv')\n",
    "d1.preprocess_object.set_parameter('y_variable', 'Sales')\n",
    "d1.preprocess_object.read_file()\n",
    "d1.preprocess_object.replace_nan(0)\n",
    "d1.preprocess_object.split_time()\n",
    "d1.preprocess_object.choose_y()\n",
    "d1.preprocess_object.category_to_nominal()"
   ]
  },
  {
   "cell_type": "code",
   "execution_count": 5,
   "metadata": {},
   "outputs": [],
   "source": [
    "y_predict= m.guess(np.array(d1.preprocess_object.data))\n",
    "y= d1.preprocess_object.data_y"
   ]
  },
  {
   "cell_type": "code",
   "execution_count": 11,
   "metadata": {},
   "outputs": [],
   "source": [
    "#save both and draw graph\n",
    "import pandas as pd\n",
    "p= pd.DataFrame()\n",
    "p['y']= np.array(y)\n",
    "p['y_predict']= np.array(y_predict)\n",
    "p.to_csv('rossman1nn7-2.csv')"
   ]
  },
  {
   "cell_type": "code",
   "execution_count": null,
   "metadata": {},
   "outputs": [],
   "source": []
  }
 ],
 "metadata": {
  "kernelspec": {
   "display_name": "Python 3",
   "language": "python",
   "name": "python3"
  },
  "language_info": {
   "codemirror_mode": {
    "name": "ipython",
    "version": 3
   },
   "file_extension": ".py",
   "mimetype": "text/x-python",
   "name": "python",
   "nbconvert_exporter": "python",
   "pygments_lexer": "ipython3",
   "version": "3.6.5"
  }
 },
 "nbformat": 4,
 "nbformat_minor": 2
}
